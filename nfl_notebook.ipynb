{
 "cells": [
  {
   "cell_type": "code",
   "execution_count": 1,
   "metadata": {},
   "outputs": [],
   "source": [
    "import numpy as np\n",
    "import pandas as pd\n",
    "%load_ext autoreload\n",
    "%autoreload 2"
   ]
  },
  {
   "cell_type": "code",
   "execution_count": 2,
   "metadata": {},
   "outputs": [],
   "source": [
    "from sklearn.ensemble import RandomForestClassifier\n",
    "from sklearn.model_selection import train_test_split\n",
    "from sklearn.metrics import recall_score, precision_score, accuracy_score\n",
    "from sklearn.model_selection import KFold"
   ]
  },
  {
   "cell_type": "code",
   "execution_count": 3,
   "metadata": {},
   "outputs": [],
   "source": [
    "import matplotlib.pyplot as plt\n",
    "%matplotlib inline\n",
    "plt.style.use('ggplot')"
   ]
  },
  {
   "cell_type": "code",
   "execution_count": 4,
   "metadata": {},
   "outputs": [],
   "source": [
    "from src.split_dataframe import split_df\n",
    "from src.remove_correlated_stats import remove_corr_stats\n",
    "from src.my_predicted_stats import my_pred_stats"
   ]
  },
  {
   "cell_type": "code",
   "execution_count": null,
   "metadata": {},
   "outputs": [],
   "source": [
    "df = pd.read_csv('data/aggregated_2014_to_2019.csv')"
   ]
  },
  {
   "cell_type": "code",
   "execution_count": null,
   "metadata": {},
   "outputs": [],
   "source": [
    "df = df.sort_values(by=['season','week','game_id']).reset_index(drop=True)"
   ]
  },
  {
   "cell_type": "code",
   "execution_count": null,
   "metadata": {},
   "outputs": [],
   "source": [
    "df_train, df_test = split_df(df, 0.3)"
   ]
  },
  {
   "cell_type": "markdown",
   "metadata": {},
   "source": [
    "# EDA"
   ]
  },
  {
   "cell_type": "code",
   "execution_count": null,
   "metadata": {},
   "outputs": [],
   "source": [
    "import seaborn as sns\n",
    "import warnings\n",
    "warnings.filterwarnings('ignore')"
   ]
  },
  {
   "cell_type": "code",
   "execution_count": null,
   "metadata": {},
   "outputs": [],
   "source": [
    "df.describe()"
   ]
  },
  {
   "cell_type": "code",
   "execution_count": null,
   "metadata": {},
   "outputs": [],
   "source": [
    "df.info()"
   ]
  },
  {
   "cell_type": "markdown",
   "metadata": {},
   "source": [
    "### Split df_train in half to help with visualizing all of the data"
   ]
  },
  {
   "cell_type": "code",
   "execution_count": null,
   "metadata": {},
   "outputs": [],
   "source": [
    "df_train_1 = df_train.iloc[:,3:12]\n",
    "df_train_2 = df_train.iloc[:,12:20]\n",
    "df_train_3 = df_train.iloc[:,20:30]\n",
    "df_train_4 = df_train.iloc[:,30:40]\n",
    "df_train_5 = df_train.iloc[:,40:]"
   ]
  },
  {
   "cell_type": "code",
   "execution_count": null,
   "metadata": {},
   "outputs": [],
   "source": [
    "fig,ax = plt.subplots(figsize=(10,10))\n",
    "\n",
    "ax = sns.heatmap(df_train_1.corr(), annot=True, cmap='coolwarm')\n",
    "ax.set_title('Correlation Map')\n",
    "plt.savefig('images/heat_map_1.png')"
   ]
  },
  {
   "cell_type": "code",
   "execution_count": null,
   "metadata": {},
   "outputs": [],
   "source": [
    "fig,ax = plt.subplots(figsize=(10,10))\n",
    "\n",
    "ax = sns.heatmap(df_train_2.corr(), annot=True, cmap='coolwarm')\n",
    "ax.set_title('Correlation Map')\n",
    "plt.savefig('images/heat_map_2.png')"
   ]
  },
  {
   "cell_type": "code",
   "execution_count": null,
   "metadata": {},
   "outputs": [],
   "source": [
    "fig,ax = plt.subplots(figsize=(10,10))\n",
    "\n",
    "ax = sns.heatmap(df_train_3.corr(), annot=True, cmap='coolwarm')\n",
    "ax.set_title('Correlation Map')\n",
    "plt.savefig('images/heat_map_3.png')"
   ]
  },
  {
   "cell_type": "code",
   "execution_count": null,
   "metadata": {},
   "outputs": [],
   "source": [
    "fig,ax = plt.subplots(figsize=(10,10))\n",
    "\n",
    "ax = sns.heatmap(df_train_4.corr(), annot=True, cmap='coolwarm')\n",
    "ax.set_title('Correlation Map')\n",
    "plt.savefig('images/heat_map_4.png')"
   ]
  },
  {
   "cell_type": "code",
   "execution_count": null,
   "metadata": {},
   "outputs": [],
   "source": [
    "fig,ax = plt.subplots(figsize=(10,10))\n",
    "\n",
    "ax = sns.heatmap(df_train_5.corr(), annot=True, cmap='coolwarm')\n",
    "ax.set_title('Correlation Map')\n",
    "plt.savefig('images/heat_map_5.png')"
   ]
  },
  {
   "cell_type": "markdown",
   "metadata": {},
   "source": [
    "## Based off of the EDA, decided to drop the following columns:\n",
    "columns_to_remove = ['passAttempts', 'passYardPerAtt', 'passIntPct', 'pass40Plus', 'sacks_allowed_yard','rush1stdowns', 'rush40plus']"
   ]
  },
  {
   "cell_type": "markdown",
   "metadata": {},
   "source": [
    "# Random Forest Classifier - My Stats"
   ]
  },
  {
   "cell_type": "code",
   "execution_count": null,
   "metadata": {},
   "outputs": [],
   "source": [
    "from sklearn.ensemble import RandomForestClassifier\n",
    "from sklearn.model_selection import train_test_split\n",
    "from sklearn.metrics import recall_score, precision_score, accuracy_score\n",
    "from sklearn.model_selection import KFold"
   ]
  },
  {
   "cell_type": "code",
   "execution_count": 12,
   "metadata": {},
   "outputs": [],
   "source": [
    "df = pd.read_csv('data/aggregated_2014_to_2019.csv')\n",
    "df = df.sort_values(by=['season','week','game_id']).reset_index(drop=True)\n",
    "df = remove_corr_stats(df)\n",
    "my_df = my_pred_stats(df)"
   ]
  },
  {
   "cell_type": "code",
   "execution_count": 13,
   "metadata": {},
   "outputs": [],
   "source": [
    "#df"
   ]
  },
  {
   "cell_type": "code",
   "execution_count": 14,
   "metadata": {},
   "outputs": [],
   "source": [
    "my_df = my_df.sort_values(by=['season','week','game_id']).reset_index(drop=True)\n",
    "df_train, df_test = split_df(my_df, 0.3)\n",
    "y_train = np.array(df_train.pop('win_game'))\n",
    "X_train = np.array(df_train.iloc[:,5:])\n",
    "y_test = np.array(df_test.pop('win_game'))\n",
    "X_test = np.array(df_test.iloc[:,5:])"
   ]
  },
  {
   "cell_type": "markdown",
   "metadata": {},
   "source": [
    "### 10 fold split"
   ]
  },
  {
   "cell_type": "code",
   "execution_count": 15,
   "metadata": {},
   "outputs": [
    {
     "name": "stdout",
     "output_type": "stream",
     "text": [
      "Accuracy: 0.6\n",
      "Precision: 0.6054403226602518\n",
      "Recall: 0.5690980943455171\n"
     ]
    }
   ],
   "source": [
    "kfold = KFold(n_splits=10)\n",
    "accuracies = []\n",
    "precisions = []\n",
    "recalls = []\n",
    "for train_index, test_index in kfold.split(X_train):\n",
    "    model = RandomForestClassifier(n_estimators=500, max_leaf_nodes=16, n_jobs=-1)\n",
    "    model.fit(X_train[train_index], y_train[train_index])\n",
    "    y_predict = model.predict(X_train[test_index])\n",
    "    y_true = y_train[test_index]\n",
    "    accuracies.append(accuracy_score(y_true, y_predict))\n",
    "    precisions.append(precision_score(y_true, y_predict))\n",
    "    recalls.append(recall_score(y_true, y_predict))\n",
    "print(\"Accuracy:\", np.average(accuracies))\n",
    "print(\"Precision:\", np.average(precisions))\n",
    "print(\"Recall:\", np.average(recalls))"
   ]
  },
  {
   "cell_type": "markdown",
   "metadata": {},
   "source": [
    "### Full model"
   ]
  },
  {
   "cell_type": "code",
   "execution_count": 16,
   "metadata": {},
   "outputs": [
    {
     "name": "stdout",
     "output_type": "stream",
     "text": [
      "Accuracy: 0.6147342995169082\n",
      "Precision: 0.6111111111111112\n",
      "Recall: 0.6155717761557178\n"
     ]
    }
   ],
   "source": [
    "model = RandomForestClassifier(n_estimators=500, max_leaf_nodes=16, n_jobs=-1)\n",
    "model.fit(X_train, y_train)\n",
    "df_test['win_perc'] = model.predict_proba(X_test)[:,1]\n",
    "df_test['win_game'] = y_test\n",
    "summarized_df = df_test[['game_id','season', 'week','team','opponent','win_perc','win_game']]\n",
    "summarized_df = summarized_df.sort_values(by='game_id').reset_index(drop=True)\n",
    "summarized_df.reset_index(drop=True, inplace=True)\n",
    "summarized_df['predicted_win'] = None\n",
    "for i in range(0, len(summarized_df), 2):\n",
    "    if summarized_df.loc[i, 'win_perc'] > summarized_df.loc[i+1, 'win_perc']:\n",
    "        summarized_df.loc[i, 'predicted_win'] = 1\n",
    "        summarized_df.loc[i+1, 'predicted_win'] = 0\n",
    "    else:\n",
    "        summarized_df.loc[i, 'predicted_win'] = 0\n",
    "        summarized_df.loc[i+1, 'predicted_win'] = 1\n",
    "y_true = np.array(summarized_df['win_game'])\n",
    "y_predict = np.array(summarized_df['predicted_win'])\n",
    "print(\"Accuracy:\", accuracy_score(y_true, y_predict))\n",
    "print(\"Precision:\", precision_score(y_true, y_predict))\n",
    "print(\"Recall:\", recall_score(y_true, y_predict))"
   ]
  },
  {
   "cell_type": "code",
   "execution_count": 17,
   "metadata": {},
   "outputs": [],
   "source": [
    "feature_importances = pd.DataFrame(model.feature_importances_,\n",
    "                                   index = df_train.columns[5:],\n",
    "                                    columns=['importance']).sort_values('importance',ascending=False)"
   ]
  },
  {
   "cell_type": "code",
   "execution_count": 18,
   "metadata": {},
   "outputs": [
    {
     "data": {
      "text/html": [
       "<div>\n",
       "<style scoped>\n",
       "    .dataframe tbody tr th:only-of-type {\n",
       "        vertical-align: middle;\n",
       "    }\n",
       "\n",
       "    .dataframe tbody tr th {\n",
       "        vertical-align: top;\n",
       "    }\n",
       "\n",
       "    .dataframe thead th {\n",
       "        text-align: right;\n",
       "    }\n",
       "</style>\n",
       "<table border=\"1\" class=\"dataframe\">\n",
       "  <thead>\n",
       "    <tr style=\"text-align: right;\">\n",
       "      <th></th>\n",
       "      <th>importance</th>\n",
       "    </tr>\n",
       "  </thead>\n",
       "  <tbody>\n",
       "    <tr>\n",
       "      <td>team_score</td>\n",
       "      <td>0.212932</td>\n",
       "    </tr>\n",
       "    <tr>\n",
       "      <td>wins_past_games</td>\n",
       "      <td>0.155317</td>\n",
       "    </tr>\n",
       "    <tr>\n",
       "      <td>qb_rating</td>\n",
       "      <td>0.140982</td>\n",
       "    </tr>\n",
       "    <tr>\n",
       "      <td>opponent_score</td>\n",
       "      <td>0.111040</td>\n",
       "    </tr>\n",
       "    <tr>\n",
       "      <td>playing_at_home</td>\n",
       "      <td>0.108067</td>\n",
       "    </tr>\n",
       "    <tr>\n",
       "      <td>fumbles</td>\n",
       "      <td>0.070883</td>\n",
       "    </tr>\n",
       "    <tr>\n",
       "      <td>passInt</td>\n",
       "      <td>0.056935</td>\n",
       "    </tr>\n",
       "    <tr>\n",
       "      <td>sacks</td>\n",
       "      <td>0.055226</td>\n",
       "    </tr>\n",
       "    <tr>\n",
       "      <td>passTD</td>\n",
       "      <td>0.046600</td>\n",
       "    </tr>\n",
       "    <tr>\n",
       "      <td>interceptions</td>\n",
       "      <td>0.042019</td>\n",
       "    </tr>\n",
       "  </tbody>\n",
       "</table>\n",
       "</div>"
      ],
      "text/plain": [
       "                 importance\n",
       "team_score         0.212932\n",
       "wins_past_games    0.155317\n",
       "qb_rating          0.140982\n",
       "opponent_score     0.111040\n",
       "playing_at_home    0.108067\n",
       "fumbles            0.070883\n",
       "passInt            0.056935\n",
       "sacks              0.055226\n",
       "passTD             0.046600\n",
       "interceptions      0.042019"
      ]
     },
     "execution_count": 18,
     "metadata": {},
     "output_type": "execute_result"
    }
   ],
   "source": [
    "feature_importances"
   ]
  },
  {
   "cell_type": "markdown",
   "metadata": {},
   "source": [
    "# Random Forest Classifier - All Stats"
   ]
  },
  {
   "cell_type": "code",
   "execution_count": 19,
   "metadata": {},
   "outputs": [],
   "source": [
    "df = pd.read_csv('data/aggregated_2014_to_2019.csv')\n",
    "df = df.sort_values(by=['season','week','game_id']).reset_index(drop=True)\n",
    "df = remove_corr_stats(df)"
   ]
  },
  {
   "cell_type": "code",
   "execution_count": 20,
   "metadata": {},
   "outputs": [],
   "source": [
    "df = df.sort_values(by=['season','week','game_id']).reset_index(drop=True)\n",
    "df_train, df_test = split_df(df, 0.3)\n",
    "y_train = np.array(df_train.pop('win_game'))\n",
    "X_train = np.array(df_train.iloc[:,5:])\n",
    "y_test = np.array(df_test.pop('win_game'))\n",
    "X_test = np.array(df_test.iloc[:,5:])"
   ]
  },
  {
   "cell_type": "markdown",
   "metadata": {},
   "source": [
    "### 10 fold split"
   ]
  },
  {
   "cell_type": "code",
   "execution_count": 21,
   "metadata": {},
   "outputs": [
    {
     "name": "stdout",
     "output_type": "stream",
     "text": [
      "Accuracy: 0.5988309490847562\n",
      "Precision: 0.5997123627023161\n",
      "Recall: 0.5859019396574625\n"
     ]
    }
   ],
   "source": [
    "kfold = KFold(n_splits=10)\n",
    "accuracies = []\n",
    "precisions = []\n",
    "recalls = []\n",
    "for train_index, test_index in kfold.split(X_train):\n",
    "    model = RandomForestClassifier(n_estimators=500, max_leaf_nodes=16, n_jobs=-1)\n",
    "    model.fit(X_train[train_index], y_train[train_index])\n",
    "    y_predict = model.predict(X_train[test_index])\n",
    "    y_true = y_train[test_index]\n",
    "    accuracies.append(accuracy_score(y_true, y_predict))\n",
    "    precisions.append(precision_score(y_true, y_predict))\n",
    "    recalls.append(recall_score(y_true, y_predict))\n",
    "print(\"Accuracy:\", np.average(accuracies))\n",
    "print(\"Precision:\", np.average(precisions))\n",
    "print(\"Recall:\", np.average(recalls))"
   ]
  },
  {
   "cell_type": "markdown",
   "metadata": {},
   "source": [
    "### Full model"
   ]
  },
  {
   "cell_type": "code",
   "execution_count": 22,
   "metadata": {},
   "outputs": [
    {
     "name": "stdout",
     "output_type": "stream",
     "text": [
      "Accuracy: 0.6457345971563981\n",
      "Precision: 0.6445497630331753\n",
      "Recall: 0.6460807600950119\n"
     ]
    }
   ],
   "source": [
    "model = RandomForestClassifier(n_estimators=500, max_leaf_nodes=16, n_jobs=-1)\n",
    "model.fit(X_train, y_train)\n",
    "df_test['win_perc'] = model.predict_proba(X_test)[:,1]\n",
    "df_test['win_game'] = y_test\n",
    "summarized_df = df_test[['game_id','season', 'week','team','opponent','win_perc','win_game']]\n",
    "summarized_df = summarized_df.sort_values(by='game_id').reset_index(drop=True)\n",
    "summarized_df.reset_index(drop=True, inplace=True)\n",
    "summarized_df['predicted_win'] = None\n",
    "for i in range(0, len(summarized_df), 2):\n",
    "    if summarized_df.loc[i, 'win_perc'] > summarized_df.loc[i+1, 'win_perc']:\n",
    "        summarized_df.loc[i, 'predicted_win'] = 1\n",
    "        summarized_df.loc[i+1, 'predicted_win'] = 0\n",
    "    else:\n",
    "        summarized_df.loc[i, 'predicted_win'] = 0\n",
    "        summarized_df.loc[i+1, 'predicted_win'] = 1\n",
    "y_true = np.array(summarized_df['win_game'])\n",
    "y_predict = np.array(summarized_df['predicted_win'])\n",
    "print(\"Accuracy:\", accuracy_score(y_true, y_predict))\n",
    "print(\"Precision:\", precision_score(y_true, y_predict))\n",
    "print(\"Recall:\", recall_score(y_true, y_predict))"
   ]
  },
  {
   "cell_type": "code",
   "execution_count": 23,
   "metadata": {},
   "outputs": [],
   "source": [
    "feature_importances = pd.DataFrame(model.feature_importances_,\n",
    "                                   index = df_train.columns[5:],\n",
    "                                    columns=['importance']).sort_values('importance',ascending=False)"
   ]
  },
  {
   "cell_type": "code",
   "execution_count": 24,
   "metadata": {},
   "outputs": [
    {
     "data": {
      "text/html": [
       "<div>\n",
       "<style scoped>\n",
       "    .dataframe tbody tr th:only-of-type {\n",
       "        vertical-align: middle;\n",
       "    }\n",
       "\n",
       "    .dataframe tbody tr th {\n",
       "        vertical-align: top;\n",
       "    }\n",
       "\n",
       "    .dataframe thead th {\n",
       "        text-align: right;\n",
       "    }\n",
       "</style>\n",
       "<table border=\"1\" class=\"dataframe\">\n",
       "  <thead>\n",
       "    <tr style=\"text-align: right;\">\n",
       "      <th></th>\n",
       "      <th>importance</th>\n",
       "    </tr>\n",
       "  </thead>\n",
       "  <tbody>\n",
       "    <tr>\n",
       "      <td>wins_past_games</td>\n",
       "      <td>0.085259</td>\n",
       "    </tr>\n",
       "    <tr>\n",
       "      <td>team_score</td>\n",
       "      <td>0.079887</td>\n",
       "    </tr>\n",
       "    <tr>\n",
       "      <td>qb_rating</td>\n",
       "      <td>0.058771</td>\n",
       "    </tr>\n",
       "    <tr>\n",
       "      <td>sacks_allowed</td>\n",
       "      <td>0.050632</td>\n",
       "    </tr>\n",
       "    <tr>\n",
       "      <td>opponent_score</td>\n",
       "      <td>0.048091</td>\n",
       "    </tr>\n",
       "    <tr>\n",
       "      <td>third_down_pct</td>\n",
       "      <td>0.040742</td>\n",
       "    </tr>\n",
       "    <tr>\n",
       "      <td>punt_inside_20_pct</td>\n",
       "      <td>0.039222</td>\n",
       "    </tr>\n",
       "    <tr>\n",
       "      <td>passPct</td>\n",
       "      <td>0.038062</td>\n",
       "    </tr>\n",
       "    <tr>\n",
       "      <td>passInt</td>\n",
       "      <td>0.034134</td>\n",
       "    </tr>\n",
       "    <tr>\n",
       "      <td>rushAttempts</td>\n",
       "      <td>0.029067</td>\n",
       "    </tr>\n",
       "    <tr>\n",
       "      <td>sackYds</td>\n",
       "      <td>0.028936</td>\n",
       "    </tr>\n",
       "    <tr>\n",
       "      <td>passAvg</td>\n",
       "      <td>0.028174</td>\n",
       "    </tr>\n",
       "    <tr>\n",
       "      <td>rush1stDownsPct</td>\n",
       "      <td>0.027758</td>\n",
       "    </tr>\n",
       "    <tr>\n",
       "      <td>tackleSolo</td>\n",
       "      <td>0.027447</td>\n",
       "    </tr>\n",
       "    <tr>\n",
       "      <td>tackleTotal</td>\n",
       "      <td>0.027166</td>\n",
       "    </tr>\n",
       "    <tr>\n",
       "      <td>playing_at_home</td>\n",
       "      <td>0.026583</td>\n",
       "    </tr>\n",
       "    <tr>\n",
       "      <td>rushLng</td>\n",
       "      <td>0.024937</td>\n",
       "    </tr>\n",
       "    <tr>\n",
       "      <td>fgMade</td>\n",
       "      <td>0.022453</td>\n",
       "    </tr>\n",
       "    <tr>\n",
       "      <td>rushYards</td>\n",
       "      <td>0.022175</td>\n",
       "    </tr>\n",
       "    <tr>\n",
       "      <td>fumbles</td>\n",
       "      <td>0.021436</td>\n",
       "    </tr>\n",
       "    <tr>\n",
       "      <td>rushAverage</td>\n",
       "      <td>0.020919</td>\n",
       "    </tr>\n",
       "    <tr>\n",
       "      <td>tackleAst</td>\n",
       "      <td>0.020341</td>\n",
       "    </tr>\n",
       "    <tr>\n",
       "      <td>passGrossYards</td>\n",
       "      <td>0.018695</td>\n",
       "    </tr>\n",
       "    <tr>\n",
       "      <td>field_goal_pct</td>\n",
       "      <td>0.017325</td>\n",
       "    </tr>\n",
       "    <tr>\n",
       "      <td>rec1stDowns</td>\n",
       "      <td>0.016773</td>\n",
       "    </tr>\n",
       "    <tr>\n",
       "      <td>passLng</td>\n",
       "      <td>0.016049</td>\n",
       "    </tr>\n",
       "    <tr>\n",
       "      <td>sacks</td>\n",
       "      <td>0.015648</td>\n",
       "    </tr>\n",
       "    <tr>\n",
       "      <td>tacklesForLoss</td>\n",
       "      <td>0.014682</td>\n",
       "    </tr>\n",
       "    <tr>\n",
       "      <td>passCompletions</td>\n",
       "      <td>0.013936</td>\n",
       "    </tr>\n",
       "    <tr>\n",
       "      <td>fourth_down_pct</td>\n",
       "      <td>0.013366</td>\n",
       "    </tr>\n",
       "    <tr>\n",
       "      <td>passTD</td>\n",
       "      <td>0.013258</td>\n",
       "    </tr>\n",
       "    <tr>\n",
       "      <td>penalties</td>\n",
       "      <td>0.012753</td>\n",
       "    </tr>\n",
       "    <tr>\n",
       "      <td>pass20Plus</td>\n",
       "      <td>0.010134</td>\n",
       "    </tr>\n",
       "    <tr>\n",
       "      <td>kr20Plus</td>\n",
       "      <td>0.009977</td>\n",
       "    </tr>\n",
       "    <tr>\n",
       "      <td>interceptions</td>\n",
       "      <td>0.009452</td>\n",
       "    </tr>\n",
       "    <tr>\n",
       "      <td>rush20Plus</td>\n",
       "      <td>0.008396</td>\n",
       "    </tr>\n",
       "    <tr>\n",
       "      <td>rushFumbles</td>\n",
       "      <td>0.006549</td>\n",
       "    </tr>\n",
       "    <tr>\n",
       "      <td>krTD</td>\n",
       "      <td>0.000816</td>\n",
       "    </tr>\n",
       "  </tbody>\n",
       "</table>\n",
       "</div>"
      ],
      "text/plain": [
       "                    importance\n",
       "wins_past_games       0.085259\n",
       "team_score            0.079887\n",
       "qb_rating             0.058771\n",
       "sacks_allowed         0.050632\n",
       "opponent_score        0.048091\n",
       "third_down_pct        0.040742\n",
       "punt_inside_20_pct    0.039222\n",
       "passPct               0.038062\n",
       "passInt               0.034134\n",
       "rushAttempts          0.029067\n",
       "sackYds               0.028936\n",
       "passAvg               0.028174\n",
       "rush1stDownsPct       0.027758\n",
       "tackleSolo            0.027447\n",
       "tackleTotal           0.027166\n",
       "playing_at_home       0.026583\n",
       "rushLng               0.024937\n",
       "fgMade                0.022453\n",
       "rushYards             0.022175\n",
       "fumbles               0.021436\n",
       "rushAverage           0.020919\n",
       "tackleAst             0.020341\n",
       "passGrossYards        0.018695\n",
       "field_goal_pct        0.017325\n",
       "rec1stDowns           0.016773\n",
       "passLng               0.016049\n",
       "sacks                 0.015648\n",
       "tacklesForLoss        0.014682\n",
       "passCompletions       0.013936\n",
       "fourth_down_pct       0.013366\n",
       "passTD                0.013258\n",
       "penalties             0.012753\n",
       "pass20Plus            0.010134\n",
       "kr20Plus              0.009977\n",
       "interceptions         0.009452\n",
       "rush20Plus            0.008396\n",
       "rushFumbles           0.006549\n",
       "krTD                  0.000816"
      ]
     },
     "execution_count": 24,
     "metadata": {},
     "output_type": "execute_result"
    }
   ],
   "source": [
    "feature_importances"
   ]
  },
  {
   "cell_type": "code",
   "execution_count": null,
   "metadata": {},
   "outputs": [],
   "source": []
  }
 ],
 "metadata": {
  "kernelspec": {
   "display_name": "Python 3",
   "language": "python",
   "name": "python3"
  },
  "language_info": {
   "codemirror_mode": {
    "name": "ipython",
    "version": 3
   },
   "file_extension": ".py",
   "mimetype": "text/x-python",
   "name": "python",
   "nbconvert_exporter": "python",
   "pygments_lexer": "ipython3",
   "version": "3.7.4"
  }
 },
 "nbformat": 4,
 "nbformat_minor": 4
}
